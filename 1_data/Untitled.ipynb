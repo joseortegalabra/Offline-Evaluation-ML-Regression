{
 "cells": [
  {
   "cell_type": "code",
   "execution_count": 3,
   "id": "a91335e9-5574-4e1d-9f24-1d955c058f34",
   "metadata": {},
   "outputs": [],
   "source": [
    "# probar isntalar alibi\n",
    "# !pip install alibi"
   ]
  },
  {
   "cell_type": "code",
   "execution_count": 4,
   "id": "4a1bcda1-b68b-4913-876a-0473f4794942",
   "metadata": {},
   "outputs": [],
   "source": [
    "# !pip install shap"
   ]
  },
  {
   "cell_type": "code",
   "execution_count": null,
   "id": "cda9fc4b-8193-4332-9550-30577ce589ab",
   "metadata": {},
   "outputs": [],
   "source": []
  },
  {
   "cell_type": "code",
   "execution_count": null,
   "id": "efc218ec-9d82-44fa-80c9-b2fad69dc740",
   "metadata": {},
   "outputs": [],
   "source": []
  },
  {
   "cell_type": "code",
   "execution_count": null,
   "id": "838c3291-99f6-4f55-9b6b-cb66b56d392f",
   "metadata": {},
   "outputs": [],
   "source": []
  },
  {
   "cell_type": "code",
   "execution_count": null,
   "id": "35e4ec73-f0bc-490e-9f8a-ec427425cb41",
   "metadata": {},
   "outputs": [],
   "source": []
  }
 ],
 "metadata": {
  "kernelspec": {
   "display_name": "Python 3 (ipykernel)",
   "language": "python",
   "name": "python3"
  },
  "language_info": {
   "codemirror_mode": {
    "name": "ipython",
    "version": 3
   },
   "file_extension": ".py",
   "mimetype": "text/x-python",
   "name": "python",
   "nbconvert_exporter": "python",
   "pygments_lexer": "ipython3",
   "version": "3.10.12"
  }
 },
 "nbformat": 4,
 "nbformat_minor": 5
}
